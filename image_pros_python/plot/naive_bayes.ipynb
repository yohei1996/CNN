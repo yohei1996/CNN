{
 "cells": [
  {
   "cell_type": "markdown",
   "metadata": {},
   "source": [
    "# Naive Bayesアルゴリズムを用いたサンプルデータの分類"
   ]
  },
  {
   "cell_type": "markdown",
   "metadata": {},
   "source": [
    "## 1. ライブラリのインポート"
   ]
  },
  {
   "cell_type": "markdown",
   "metadata": {},
   "source": [
    "まずは必要なライブラリをインポートします。  \n",
    "Scikit learnからGaussianNB(Gaussian型Naive Bayes)を呼んでいます。"
   ]
  },
  {
   "cell_type": "code",
   "execution_count": 1,
   "metadata": {},
   "outputs": [],
   "source": [
    "# 必要なライブラリのインポート\n",
    "from sklearn.naive_bayes import GaussianNB\n",
    "import numpy as np\n",
    "import matplotlib.pyplot as plt\n",
    "%matplotlib inline"
   ]
  },
  {
   "cell_type": "markdown",
   "metadata": {},
   "source": [
    "## 2. トレーニングデータの用意"
   ]
  },
  {
   "cell_type": "markdown",
   "metadata": {},
   "source": [
    "2次元のトレーニングデータを自前で用意します。  \n",
    "xがデータ、yがそのlabel(1 or 2)になります。"
   ]
  },
  {
   "cell_type": "code",
   "execution_count": 2,
   "metadata": {},
   "outputs": [],
   "source": [
    "# トレーニングデータセットの用意\n",
    "x = np.array([[-2,6], [0,6], [0,7], [-2,5], [-3,3], [-1,0], [-2,0], [-3,1], [-1,4], [0,3], [0,1], [-1,7], [-3,5], [-4,3], [-2,0], [-3,7], [1,5], [1,2], [-2,3], [2,3], [-4,0], [-1,3], [1,1], [-2,2], [2,7], [-4,1]])\n",
    "y = np.array([2, 1, 2, 1, 1, 2, 2, 2, 1, 1, 2, 2, 2, 2, 2, 1, 1, 1, 2, 2, 1, 1, 2, 1, 2, 2])"
   ]
  },
  {
   "cell_type": "markdown",
   "metadata": {},
   "source": [
    "## 3. トレーニングデータの可視化"
   ]
  },
  {
   "cell_type": "markdown",
   "metadata": {},
   "source": [
    "用意したトレーニングデータを2次元平面に描画して、可視化してみましょう。"
   ]
  },
  {
   "cell_type": "code",
   "execution_count": 5,
   "metadata": {
    "scrolled": true
   },
   "outputs": [
    {
     "name": "stdout",
     "output_type": "stream",
     "text": [
      "[2 1 2 1 1 2 2 2 1 1 2 2 2 2 2 1 1 1 2 2 1 1 2 1 2 2]\n",
      "[[ 0  6  1]\n",
      " [-2  5  1]\n",
      " [-3  3  1]\n",
      " [-1  4  1]\n",
      " [ 0  3  1]\n",
      " [-3  7  1]\n",
      " [ 1  5  1]\n",
      " [ 1  2  1]\n",
      " [-4  0  1]\n",
      " [-1  3  1]\n",
      " [-2  2  1]]\n",
      "[[-2  6  2]\n",
      " [ 0  7  2]\n",
      " [-1  0  2]\n",
      " [-2  0  2]\n",
      " [-3  1  2]\n",
      " [ 0  1  2]\n",
      " [-1  7  2]\n",
      " [-3  5  2]\n",
      " [-4  3  2]\n",
      " [-2  0  2]\n",
      " [-2  3  2]\n",
      " [ 2  3  2]\n",
      " [ 1  1  2]\n",
      " [ 2  7  2]\n",
      " [-4  1  2]]\n"
     ]
    },
    {
     "data": {
      "image/png": "[encoded data removed]",
      "text/plain": [
       "<Figure size 432x288 with 1 Axes>"
      ]
     },
     "metadata": {
      "needs_background": "light"
     },
     "output_type": "display_data"
    }
   ],
   "source": [
    "# グラフ描画に向けてのデータの整形\n",
    "data = np.hstack((x, y.reshape(y.shape[0],1)))\n",
    "#rint(data)\n",
    "#data は　x1,x2,yの順番\n",
    "print(data[:,2])\n",
    "\n",
    "#yのデータごとにデータごとに分類\n",
    "data1 = data[np.where(data[:,2]==1)]\n",
    "data2 = data[np.where(data[:,2]==2)]\n",
    "print(data1)\n",
    "print(data2)\n",
    "\n",
    "# matplotlibを用いたデータの可視化（グラフ化）\n",
    "plt.close(\"all\")\n",
    "plt.scatter(data1[:,0], data1[:,1], c=\"tab:blue\")\n",
    "plt.scatter(data2[:,0], data2[:,1], c=\"tab:red\")\n",
    "plt.show()"
   ]
  },
  {
   "cell_type": "markdown",
   "metadata": {},
   "source": [
    "多少の外れ値はありますが、全体として中心の青（label1）のデータ点の集まりを赤（label2）のデータが囲んでいるような構造が見えます。"
   ]
  },
  {
   "cell_type": "markdown",
   "metadata": {},
   "source": [
    "## 4. モデルの学習"
   ]
  },
  {
   "cell_type": "markdown",
   "metadata": {},
   "source": [
    "それではこのトレーニングデータを用いて、Gaussian Naive Bayesを学習させます。  \n",
    "学習はほぼ一瞬で終わります。"
   ]
  },
  {
   "cell_type": "code",
   "execution_count": 6,
   "metadata": {},
   "outputs": [
    {
     "name": "stdout",
     "output_type": "stream",
     "text": [
      "Model fitted.\n"
     ]
    }
   ],
   "source": [
    "# モデルの学習\n",
    "model = GaussianNB()\n",
    "model.fit(x, y)\n",
    "print(\"Model fitted.\")"
   ]
  },
  {
   "cell_type": "markdown",
   "metadata": {},
   "source": [
    "## 5. テストデータの用意と可視化"
   ]
  },
  {
   "cell_type": "markdown",
   "metadata": {},
   "source": [
    "次にテストデータを用意し、それをグラフに描画してみましょう。"
   ]
  },
  {
   "cell_type": "code",
   "execution_count": 7,
   "metadata": {},
   "outputs": [
    {
     "data": {
      "image/png": "[encoded data removed]",
      "text/plain": [
       "<Figure size 432x288 with 1 Axes>"
      ]
     },
     "metadata": {
      "needs_background": "light"
     },
     "output_type": "display_data"
    }
   ],
   "source": [
    "# テストデータの用意\n",
    "test_data = np.array([[0,4], [1,0]])\n",
    "\n",
    "# matplotlibを用いたデータの可視化（グラフ化）\n",
    "plt.close(\"all\")\n",
    "plt.scatter(data1[:,0], data1[:,1], c=\"tab:blue\")\n",
    "plt.scatter(data2[:,0], data2[:,1], c=\"tab:red\")\n",
    "plt.scatter(test_data[:,0], test_data[:,1], c=\"k\" )\n",
    "plt.show()"
   ]
  },
  {
   "cell_type": "markdown",
   "metadata": {},
   "source": [
    "黒の点がテストデータ[0,4]と[1,0]になります。  \n",
    "[0,4]は青（label1）のデータ点の集まりの中に位置し、[1,0]は外側の赤（label2）のデータのあたりに位置しています。"
   ]
  },
  {
   "cell_type": "markdown",
   "metadata": {},
   "source": [
    "## 5. テストデータの分類（モデルの検証）"
   ]
  },
  {
   "cell_type": "markdown",
   "metadata": {},
   "source": [
    "それではテストデータを学習したモデルに与えて分類させてみます。"
   ]
  },
  {
   "cell_type": "code",
   "execution_count": 8,
   "metadata": {},
   "outputs": [
    {
     "name": "stdout",
     "output_type": "stream",
     "text": [
      "Label of test data [0 4] : 1\n",
      "Label of test data [1 0] : 2\n"
     ]
    }
   ],
   "source": [
    "# テストデータの分類\n",
    "test_label = model.predict(test_data)\n",
    "print(\"Label of test data\", test_data[0], \":\", test_label[0])\n",
    "print(\"Label of test data\", test_data[1], \":\", test_label[1])\n",
    "\n",
    "\n",
    "\n",
    "\n",
    "\n",
    "\n",
    "\n",
    "\n",
    "\n",
    "\n",
    "\n",
    "\n",
    "\n",
    "\n",
    "\n",
    "\n",
    "\n",
    "\n",
    "\n",
    "\n",
    "\n",
    "\n",
    "\n",
    "\n",
    "\n",
    "\n",
    "\n",
    "\n",
    "\n",
    "\n",
    "\n",
    "\n",
    "\n",
    "\n",
    "\n",
    "\n",
    "\n",
    "\n",
    "\n",
    "\n",
    "\n",
    "\n",
    "\n",
    "\n",
    "\n",
    "\n",
    "\n",
    "\n",
    "\n",
    "\n",
    "\n",
    "\n",
    "\n",
    "\n",
    "\n",
    "\n",
    "\n",
    "\n",
    "\n",
    "\n",
    "\n",
    "\n",
    "\n",
    "\n",
    "\n",
    "\n",
    "\n",
    "\n",
    "\n",
    "\n",
    "\n",
    "\n",
    "\n",
    "\n",
    "\n",
    "\n",
    "\n",
    "\n",
    "\n",
    "\n",
    "\n",
    "\n",
    "\n",
    "\n",
    "\n",
    "\n",
    "\n",
    "\n",
    "\n",
    "\n",
    "\n",
    "\n",
    "\n",
    "\n",
    "\n",
    "\n",
    "\n",
    "\n",
    "\n",
    "\n",
    "\n",
    "\n",
    "\n",
    "\n",
    "\n",
    "\n",
    "\n"
   ]
  },
  {
   "cell_type": "markdown",
   "metadata": {},
   "source": [
    "用意したテストデータ[0,4]はlabel1に、[1,0]はlabel2に分類されていることがわかります。  \n",
    "この結果から、青（label1）のデータの外側に赤（label2）のデータというトレーニングデータの構造を、モデルがうまく掴んでいるであろうことがわかります。"
   ]
  },
  {
   "cell_type": "markdown",
   "metadata": {},
   "source": [
    "他にもトレーニングデータを変えてみたり、テストデータを変えてみたりして色々な設定で動かしてみてましょう。アルゴリズムの特徴をつかむのに役に立つはずです。"
   ]
  }
 ],
 "metadata": {
  "kernelspec": {
   "display_name": "Python 3",
   "language": "python",
   "name": "python3"
  },
  "language_info": {
   "codemirror_mode": {
    "name": "ipython",
    "version": 3
   },
   "file_extension": ".py",
   "mimetype": "text/x-python",
   "name": "python",
   "nbconvert_exporter": "python",
   "pygments_lexer": "ipython3",
   "version": "3.7.3"
  }
 },
 "nbformat": 4,
 "nbformat_minor": 2
}
